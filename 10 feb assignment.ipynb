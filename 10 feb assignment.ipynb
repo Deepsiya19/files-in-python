{
 "cells": [
  {
   "cell_type": "markdown",
   "id": "6ae8ab36-b69c-4b4d-b50c-875da866db55",
   "metadata": {},
   "source": [
    "# 10 feb assignment"
   ]
  },
  {
   "cell_type": "markdown",
   "id": "36970bf9-f56a-473d-97c4-a95b7ede0bc4",
   "metadata": {},
   "source": [
    "# Answer-1"
   ]
  },
  {
   "cell_type": "code",
   "execution_count": 3,
   "id": "24fdfc88-0707-4608-8714-9ea34d204023",
   "metadata": {},
   "outputs": [],
   "source": [
    " # open() function is used to open a file.\n",
    "#    Opening a file refers to getting the file ready either for reading or for writing. This can be done using the open() function. \n",
    " #   This function returns a file object and takes two arguments, one that accepts the file name and another that accepts the mode(Access Mode).\n",
    "  #  Now, the question arises what is the access mode? Access modes govern the type of operations possible in the opened file. \n",
    "#    It refers to how the file will be used once it’s opened. These modes also define the location of the File Handle in the file. \n",
    "#    The file handle is like a cursor, which defines where the data has to be read or written in the file. There are 6 access modes in Python.\n",
    "\n",
    "#  ‘r’ \t    Open text file for reading. Raises an I/O error if the file does not exist.\n",
    "#  ‘r+’\t    Open the file for reading and writing. Raises an I/O error if the file does not exist.\n",
    "#  ‘w’ \t    Open the file for writing. Truncates the file if it already exists. Creates a new file if it does not exist.\n",
    "#  ‘w+’  \tOpen the file for reading and writing. Truncates the file if it already exists. Creates a new file if it does not exist.\n",
    "#  ‘a’\t    Open the file for writing. The data being written will be inserted at the end of the file. Creates a new file if it does not exist.\n",
    "#  ‘a+’\tOpen the file for reading and writing. The data being written will be inserted at the end of the file. Creates a new file if it does not exist.\n",
    "#  ‘rb’\t    Open the file for reading in binary format. Raises an I/O error if the file does not exist.\n",
    "#  ‘rb+’\tOpen the file for reading and writing in binary format. Raises an I/O error if the file does not exist.\n",
    "#  ‘wb’\t    Open the file for writing in binary format. Truncates the file if it already exists. Creates a new file if it does not exist.\n",
    "#  ‘wb+’\tOpen the file for reading and writing in binary format. Truncates the file if it already exists. Creates a new file if it does not exist.\n",
    "#  ‘ab’  \tOpen the file for appending in binary format. Inserts data at the end of the file. Creates a new file if it does not exist.\n",
    "\n",
    "#  Syntax-\n",
    "#  File_object = open(r\"File_Name\", \"Access_Mode\")\n",
    "\n",
    "\n",
    "# example-\n",
    "\n",
    "f=open('sample.txt','w')\n",
    "f.write(\"hello\")\n",
    "f.close()    "
   ]
  },
  {
   "cell_type": "markdown",
   "id": "1aeee84b-336a-4a53-bf3b-dca0a22052c5",
   "metadata": {},
   "source": [
    "# Answer-2"
   ]
  },
  {
   "cell_type": "code",
   "execution_count": 4,
   "id": "544301d1-87da-4b41-aba8-7240c65402e1",
   "metadata": {},
   "outputs": [],
   "source": [
    "# close() is used to close the file.\n",
    "# It is important to close a file after you are done using it for several reasons:\n",
    "\n",
    "# It can help prevent data loss: When writing to a file, the data may not be written to disk until the file is closed.\n",
    "# If you don’t close the file, you risk losing data.\n",
    "# It can help prevent resource leaks: Your operating system has strict limits on how many file handles can be kept open at any one instant. \n",
    "# If you don’t close your files, you could eventually run into the limit and be unable to open new files.\n",
    "# It can help prevent errors: If you don’t close a file and your program crashes, the file may be left in an inconsistent state.\n",
    "# It is considered good programming practice: Closing files when you are done with them is considered good programming practice and can help\n",
    "# make your code more robust and maintainable."
   ]
  },
  {
   "cell_type": "markdown",
   "id": "88f3913f-57b8-4f21-b848-69406d6a09dd",
   "metadata": {},
   "source": [
    "# Answer-3"
   ]
  },
  {
   "cell_type": "code",
   "execution_count": 5,
   "id": "45e87c64-cbce-41fa-ad29-6b172b10c4a4",
   "metadata": {},
   "outputs": [],
   "source": [
    "f=open(\"neww.txt\",'w')\n",
    "f.write(\"i want to become a data scientist\")\n",
    "f.close()"
   ]
  },
  {
   "cell_type": "code",
   "execution_count": 7,
   "id": "6b2c638e-cfc8-4555-83ad-d32b8e61749e",
   "metadata": {},
   "outputs": [],
   "source": [
    "with open (\"neww.txt\",\"r\") as f:\n",
    "    read=f.read()   "
   ]
  },
  {
   "cell_type": "code",
   "execution_count": 8,
   "id": "3bf9d3d8-1d7a-49cd-ab34-d28232636b72",
   "metadata": {},
   "outputs": [
    {
     "data": {
      "text/plain": [
       "'i want to become a data scientist'"
      ]
     },
     "execution_count": 8,
     "metadata": {},
     "output_type": "execute_result"
    }
   ],
   "source": [
    "read"
   ]
  },
  {
   "cell_type": "markdown",
   "id": "0c9a05f0-f780-4fda-837a-9c15413e1caa",
   "metadata": {},
   "source": [
    "# Answer-4"
   ]
  },
  {
   "cell_type": "code",
   "execution_count": null,
   "id": "2ff2cb19-24fb-407f-90d8-70826cb17a99",
   "metadata": {},
   "outputs": [],
   "source": [
    "# In Python, there are three main functions you can use to read content from a file: read(), readline() and readlines()\n",
    "\n",
    "# read()   reads the entire file and returns a string. Here’s an example of how to use read() in Python:\n",
    "with open(\"example.txt\") as f:\n",
    "    content = f.read()\n",
    "    \n",
    "# readline() reads just one line from a file. Here’s an example of how to use readline() in Python:\n",
    "with open(\"example.txt\") as f:\n",
    "    first_line = f.readline()  \n",
    "    \n",
    "#readlines() returns a list of strings representing the lines of the file. Here’s an example of how to use readlines() in Python:\n",
    "with open(\"example.txt\") as f:\n",
    "    lines = f.readlines()\n",
    "#  Using readlines() can be useful if you are going to process the file line by line, or want to extract certain lines out of a file1.    "
   ]
  },
  {
   "cell_type": "markdown",
   "id": "93c569cb-13a7-4ecd-ba30-cdc5c55be242",
   "metadata": {},
   "source": [
    "# Answer-5"
   ]
  },
  {
   "cell_type": "code",
   "execution_count": null,
   "id": "0f3e9f3f-b5ac-4533-b9f6-08f405bf9d3a",
   "metadata": {},
   "outputs": [],
   "source": [
    "# The with statement is used with the open() function in Python to open a file. The advantage of using the with statement and open() together\n",
    "# is that it ensures that the file is properly closed after its suite finishes, even if an exception is raised at some point.\n",
    "# This is because the with statement calls two built-in methods behind the scene – __enter__() and __exit__(). The __exit__() method closes the file\n",
    "# when the operation you specify is done1.Using the with statement can help you avoid errors and make your code more readable and concise.\n",
    "\n",
    "example-\n",
    "with open(\"example.txt\") as f:\n",
    "    content = f.read()"
   ]
  },
  {
   "cell_type": "markdown",
   "id": "fb32b715-37aa-4a68-bd5e-50cdd5f79741",
   "metadata": {},
   "source": [
    "# Answer-6"
   ]
  },
  {
   "cell_type": "code",
   "execution_count": null,
   "id": "35caafce-cfc4-4853-8a98-66ce5bac01aa",
   "metadata": {},
   "outputs": [],
   "source": [
    "# In Python, there are two main functions you can use to write content to a file: write() and writelines()1.\n",
    "\n",
    "#write() writes a string to a file.example-\n",
    "with open(\"example.txt\", \"w\") as f:\n",
    "    f.write(\"Hello, write() function!\")\n",
    "\n",
    "#writelines() writes a list of strings to a file.example-\n",
    "with open(\"example.txt\", \"w\") as f:\n",
    "    lines = [\"Line 1\\n\", \"Line 2\\n\", \"Line 3\\n\"]\n",
    "    f.writelines(lines)\n",
    "\n",
    "# The main difference between the write() and writelines() functions is that write() is used to write a single string to a file, while \n",
    "# writelines() is used to write a list of strings to a file1"
   ]
  },
  {
   "cell_type": "code",
   "execution_count": null,
   "id": "d50e027c-1ae5-4df3-9b5c-4c062d03e574",
   "metadata": {},
   "outputs": [],
   "source": []
  }
 ],
 "metadata": {
  "kernelspec": {
   "display_name": "Python 3 (ipykernel)",
   "language": "python",
   "name": "python3"
  },
  "language_info": {
   "codemirror_mode": {
    "name": "ipython",
    "version": 3
   },
   "file_extension": ".py",
   "mimetype": "text/x-python",
   "name": "python",
   "nbconvert_exporter": "python",
   "pygments_lexer": "ipython3",
   "version": "3.10.8"
  }
 },
 "nbformat": 4,
 "nbformat_minor": 5
}
